{
 "cells": [
  {
   "cell_type": "code",
   "execution_count": null,
   "metadata": {},
   "outputs": [],
   "source": [
    "# additional exercise\n",
    "\n",
    "# dati: franke function??\n",
    "\n",
    "# linear regression\n",
    "\n",
    "# neural networks\n",
    "\n",
    "# tree-based"
   ]
  }
 ],
 "metadata": {
  "kernelspec": {
   "display_name": "Python 3.9.13 64-bit (microsoft store)",
   "language": "python",
   "name": "python3"
  },
  "language_info": {
   "name": "python",
   "version": "3.9.13"
  },
  "orig_nbformat": 4,
  "vscode": {
   "interpreter": {
    "hash": "d76bbde4ee634ca8abf1732c91a86654050135debd47a539f899dd244d973336"
   }
  }
 },
 "nbformat": 4,
 "nbformat_minor": 2
}
