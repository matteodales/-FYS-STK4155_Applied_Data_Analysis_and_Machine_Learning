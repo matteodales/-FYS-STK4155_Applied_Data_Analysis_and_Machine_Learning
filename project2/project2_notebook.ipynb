{
 "cells": [
  {
   "cell_type": "code",
   "execution_count": null,
   "metadata": {},
   "outputs": [],
   "source": [
    "# importing the wisconsin cancer dataset\n",
    "\n",
    "import sklearn.datasets\n",
    "\n",
    "bunch = sklearn.datasets.load_breast_cancer(as_frame=True)\n",
    "data = bunch['data']\n",
    "target = bunch['target']"
   ]
  }
 ],
 "metadata": {
  "kernelspec": {
   "display_name": "Python 3.9.13 64-bit (microsoft store)",
   "language": "python",
   "name": "python3"
  },
  "language_info": {
   "name": "python",
   "version": "3.9.13"
  },
  "orig_nbformat": 4,
  "vscode": {
   "interpreter": {
    "hash": "d76bbde4ee634ca8abf1732c91a86654050135debd47a539f899dd244d973336"
   }
  }
 },
 "nbformat": 4,
 "nbformat_minor": 2
}
